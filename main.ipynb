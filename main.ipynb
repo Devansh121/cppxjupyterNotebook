{
 "cells": [
  {
   "cell_type": "code",
   "execution_count": 1,
   "metadata": {},
   "outputs": [],
   "source": [
    "from IPython.core.magic import register_cell_magic\n",
    "import subprocess\n",
    "\n",
    "@register_cell_magic\n",
    "def cpp(line, cell):\n",
    "    code_file = \"temp.cpp\"\n",
    "    with open(code_file, \"w\") as f:\n",
    "        f.write(cell)\n",
    "    compile_process = subprocess.run([\"g++\", code_file, \"-o\", \"temp_executable\"], capture_output=True)\n",
    "    if compile_process.returncode != 0:\n",
    "        print(\"Compilation failed:\")\n",
    "        print(compile_process.stderr.decode())\n",
    "    else:\n",
    "        result = subprocess.run([\"./temp_executable\"], capture_output=True)\n",
    "        print(result.stdout.decode())"
   ]
  },
  {
   "cell_type": "code",
   "execution_count": 2,
   "metadata": {},
   "outputs": [
    {
     "name": "stdout",
     "output_type": "stream",
     "text": [
      "Hello from C++ in a Jupyter Notebook!\n",
      "\n"
     ]
    }
   ],
   "source": [
    "%%cpp\n",
    "\n",
    "#include <iostream>\n",
    "int main() {\n",
    "\n",
    "    std::cout << \"Hello from C++ in a Jupyter Notebook!\" << std::endl;\n",
    "\n",
    "    return -1;\n",
    "}\n"
   ]
  }
 ],
 "metadata": {
  "kernelspec": {
   "display_name": "venv",
   "language": "python",
   "name": "python3"
  },
  "language_info": {
   "codemirror_mode": {
    "name": "ipython",
    "version": 3
   },
   "file_extension": ".py",
   "mimetype": "text/x-python",
   "name": "python",
   "nbconvert_exporter": "python",
   "pygments_lexer": "ipython3",
   "version": "3.12.2"
  }
 },
 "nbformat": 4,
 "nbformat_minor": 2
}
